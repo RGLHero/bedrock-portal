{
    "metadata": {
        "kernelspec": {
            "name": "SQL",
            "display_name": "SQL",
            "language": "sql"
        },
        "language_info": {
            "name": "sql",
            "version": ""
        }
    },
    "nbformat_minor": 2,
    "nbformat": 4,
    "cells": [
        {
            "cell_type": "markdown",
            "source": [
                "# Support Scripts\r\n",
                "\r\n",
                "This notebook is a collection of scripts which are useful in administering your portal instance."
            ],
            "metadata": {
                "azdata_cell_guid": "fb4463e3-375c-478a-a209-a26c7442da8e"
            }
        },
        {
            "cell_type": "markdown",
            "source": [
                "## Get Time Played by User\r\n",
                "Run this script to get the total amount of time spent logged in by payer. Change @sinceDateTime to the earliest datetime that you want to measure from."
            ],
            "metadata": {
                "azdata_cell_guid": "1f9cd5a9-46e0-4157-8319-f04cdabc88f5"
            }
        },
        {
            "cell_type": "code",
            "source": [
                "DECLARE @sinceDate DATETIME = '2020-03-18 21:00';\r\n",
                "\r\n",
                "DROP TABLE IF EXISTS #timePlayed;\r\n",
                "\r\n",
                "CREATE TABLE #timePlayed \r\n",
                "(\r\n",
                "\tId INT Identity(1,1) NOT NULL PRIMARY KEY CLUSTERED,\r\n",
                "\tLoggedIn DATETIME,\r\n",
                "\tLoggedOut DATETIME,\r\n",
                "\tGamerTag VARCHAR(50),\r\n",
                "\tMsLoggedIn AS DATEDIFF_BIG(MILLISECOND, LoggedIn, LoggedOut)\r\n",
                ");\r\n",
                "\r\n",
                "INSERT INTO #timePlayed (GamerTag, LoggedIn)\r\n",
                "SELECT DISTINCT \r\n",
                "\tSUBSTRING(LogText, CHARINDEX('connected: ', LogText) + 11, (CHARINDEX(', xuid', LogText)) - (CHARINDEX('connected: ', LogText) + 11)),\r\n",
                "\tLogTime\r\n",
                "FROM dbo.ApplicationLog \r\n",
                "WHERE LogTime >= @sinceDate\r\n",
                "\t  AND LogText LIKE '%Player connected%'\r\n",
                "ORDER BY LogTime DESC;\r\n",
                "\r\n",
                "\r\n",
                "\r\n",
                "UPDATE #timePlayed\r\n",
                "SET LoggedOut = (\r\n",
                "\t\t\tSELECT TOP (1) LogTime \r\n",
                "\t\t\tFROM dbo.ApplicationLog al\r\n",
                "\t\t\tWHERE al.LogTime > #timePlayed.LoggedIn\r\n",
                "\t\t\t  AND al.LogText LIKE '%disconnected: ' + #timePlayed.GamerTag + '%'\r\n",
                "\t\t\tORDER BY LogTime \r\n",
                "\t\t);\r\n",
                "\r\n",
                "\r\n",
                "SELECT\r\n",
                "\ttp.GamerTag,\r\n",
                "\tanu.DiscordId,\r\n",
                "\tCAST(SUM(MsLoggedIn) / 3.6e+6 AS DECIMAL(27,2)) AS HoursPlayed\r\n",
                "FROM #timePlayed tp\r\n",
                "    JOIN dbo.AspNetUsers anu ON anu.GamerTag = tp.GamerTag\r\n",
                "GROUP BY tp.GamerTag, anu.DiscordId\r\n",
                "ORDER BY HoursPlayed DESC;\r\n",
                "\r\n",
                "DROP TABLE #timePlayed;"
            ],
            "metadata": {
                "azdata_cell_guid": "fac00bbd-2927-467a-a259-ef59f5289094"
            },
            "outputs": [],
            "execution_count": null
        },
        {
            "cell_type": "markdown",
            "source": [
                "## Get Days Since Logon\r\n",
                "\r\n",
                "Get the number of days since each user last logged onto the Minecraft server."
            ],
            "metadata": {
                "azdata_cell_guid": "456d2374-9f0e-4159-b736-9d498b9b34e7"
            }
        },
        {
            "cell_type": "code",
            "source": [
                "DECLARE @now DATETIME = GETUTCDATE();\r\n",
                "\r\n",
                "SELECT  \r\n",
                "\tGamerTag,\r\n",
                "\tDATEDIFF(DAY, LastMinecraftLogin, @now) AS DaysSinceLoggedIn\r\n",
                "FROM AspNetUsers\r\n",
                "WHERE LastMinecraftLogin IS NOT NULL\r\n",
                "ORDER BY LastMinecraftLogin DESC;"
            ],
            "metadata": {
                "azdata_cell_guid": "098a99e4-b8db-4dfe-a591-53d10059fb0c"
            },
            "outputs": [],
            "execution_count": null
        },
        {
            "cell_type": "markdown",
            "source": [
                "## Check Double Secret Probation\r\n",
                "Check players being tp'd to themselves"
            ],
            "metadata": {
                "azdata_cell_guid": "abe39a53-5209-41b6-9ed7-62c3e797808e"
            }
        },
        {
            "cell_type": "code",
            "source": [
                ""
            ],
            "metadata": {
                "azdata_cell_guid": "4dd29840-8185-499f-a11a-58ec96ec9ab3"
            },
            "outputs": [],
            "execution_count": null
        }
    ]
}